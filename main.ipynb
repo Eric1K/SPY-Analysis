{
 "cells": [
  {
   "cell_type": "markdown",
   "id": "a579bf9a",
   "metadata": {},
   "source": [
    "# Intraday Volatility and Trend Analysis of SPY for Trading Insights\n",
    "\n",
    "### Introduction\n",
    "This project aims to explore intraday trading patterns in SPY, one of the most popular ETFs tracking the S&P500, to identify which hours show the most volatility and strongest trends. Understanding these patterns can help traders time entries, optimizing trading windows, and avoiding choppy periods.\n",
    "\n",
    "Authors:\n",
    "- Eric Feng\n",
    "- Sawan\n",
    "- Eugene\n",
    "- Cherryan\n",
    "\n",
    "### Data Source & Collection\n",
    "The dataset is a CSV consisting of SPY (S&P500) 1m OHLC candle bars 5/1/2018 to 4/29/2025 from https://databento.com/\n",
    "\n",
    "Databento is a company that collects and provides market data to individuals and banking companies such as Goldman Sachs/Morgan Stanely.\n",
    "\n",
    "### Questions for SPY\n",
    "1. Which hours have the highest volatility (point range)? \n",
    "2. What hours show the strongest directional trends?\n",
    "3. What is the average return per hour?\n",
    "4. How do overnight gaps compare per day?\n",
    "5. What is the relationship between volume and volatility by hour?\n",
    "6. Which hour of the day has the highest win rate for bullish candles (close > open)?\n",
    "7. How does the volatility of SPY behave around key market times (e.g., 9:30 open, 10:00 economic reports, 14:00 FOMC hours)?\n",
    "\n",
    "\n"
   ]
  },
  {
   "cell_type": "code",
   "execution_count": 1,
   "id": "aae2727a",
   "metadata": {},
   "outputs": [],
   "source": [
    "import pandas as pd\n"
   ]
  }
 ],
 "metadata": {
  "kernelspec": {
   "display_name": "Python 3",
   "language": "python",
   "name": "python3"
  },
  "language_info": {
   "codemirror_mode": {
    "name": "ipython",
    "version": 3
   },
   "file_extension": ".py",
   "mimetype": "text/x-python",
   "name": "python",
   "nbconvert_exporter": "python",
   "pygments_lexer": "ipython3",
   "version": "3.12.1"
  }
 },
 "nbformat": 4,
 "nbformat_minor": 5
}
